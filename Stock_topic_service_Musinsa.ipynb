{
 "cells": [
  {
   "cell_type": "code",
   "execution_count": 1,
   "metadata": {},
   "outputs": [],
   "source": [
    "import numpy as np\n",
    "import pandas as pd\n",
    "from tqdm import tqdm\n",
    "import re\n",
    "import os\n",
    "import pickle\n",
    "import matplotlib.pyplot as plt\n",
    "import seaborn as sns\n",
    "%matplotlib inline\n",
    "plt.style.use('seaborn')\n",
    "sns.set(font_scale=1)\n",
    "\n",
    "import warnings\n",
    "warnings.filterwarnings('ignore')"
   ]
  },
  {
   "cell_type": "code",
   "execution_count": 2,
   "metadata": {},
   "outputs": [],
   "source": [
    "def to_tokenize(text_Series, dict_change_word): # input은 '기사내용'을 pd.Series 타입으로 줌. out도 Series 타입.\n",
    "    import re\n",
    "\n",
    "    # 1. URL 부분 제거.\n",
    "    print(\"\\nURL 제거 과정.\\n\")\n",
    "    text_Series = [re.sub('((http(s?))\\:\\/\\/)([0-9a-zA-Z\\-]+\\.*\\/*(\\\\n)*)+|url|URL', '', text) for text in tqdm(text_Series)]\n",
    "\n",
    "    # 2. e-mail 주소 제거.\n",
    "    print(\"\\ne-mail 제거 과정.\\n\")\n",
    "    text_Series = [re.sub('(\\<.[a-zA-Z0-9._%+-]+)@([a-zA-Z0-9.-]+)(\\.[a-zA-Z]{2,4})', '', text) for text in tqdm(text_Series)] \n",
    "\n",
    "    # 3. 고유어 변경\n",
    "    print(\"\\n고유어 변경 과정.\\n\")\n",
    "    #text_Series = text_Series.apply(lambda x: change_hiphen_word(x, dict_change_word))\n",
    "    text_Series = [change_hiphen_word(text, dict_change_word) for text in tqdm(text_Series)]\n",
    "    \n",
    "    # 4. 특수문자 제거. 모두 제거.\n",
    "    print(\"\\n특수문자 제거 과정.\\n\")\n",
    "    text_Series = [re.sub('[-=+,#/\\?:^$.@*\\\"※~&%ㆍ!』\\\\‘|\\(\\)\\[\\]\\<\\>`\\'…》]', ' ', text) for text in tqdm(text_Series)]\n",
    "\n",
    "    # 5. 문자 외 모두 제거(공백, \\, 숫자 사라짐)\n",
    "    print(\"\\n문자 외 제거 과정.\\n\")\n",
    "    text_Series = [re.sub('[^ㄱ-ㅎㅏ-ㅣ가-힣]', ' ', text) for text in tqdm(text_Series)]\n",
    "\n",
    "    return text_Series\n"
   ]
  },
  {
   "cell_type": "code",
   "execution_count": 3,
   "metadata": {},
   "outputs": [],
   "source": [
    "#dict_change_word에 해당하는 단어를 변경하는 함수\n",
    "\n",
    "def change_hiphen_word(text, dictionary):\n",
    "    com_list = [\".replace('{}', '{}')\".format(word, dictionary[word]) for word in dictionary.keys() if word in text]\n",
    "    com_list.insert(0, \"'{}'.format(text)\")\n",
    "    command = ''.join(com_list)\n",
    "    text = eval(command)\n",
    "\n",
    "    return text"
   ]
  },
  {
   "cell_type": "code",
   "execution_count": 4,
   "metadata": {},
   "outputs": [],
   "source": [
    "#Corpus 만드는 함수 (딕셔너리 반영)\n",
    "def make_corpus(text_col):\n",
    "    from gensim import corpora\n",
    "    \n",
    "    dictionary = pd.read_pickle('dictionary.pkl')\n",
    "    dictionary.filter_extremes(no_below = 20)\n",
    "    corpus = [dictionary.doc2bow(text) for text in text_col]\n",
    "    \n",
    "    return dictionary, corpus"
   ]
  },
  {
   "cell_type": "code",
   "execution_count": 128,
   "metadata": {},
   "outputs": [],
   "source": [
    "#하나로 합쳐진 데이터 불러오기\n",
    "\n",
    "news_entire = pd.read_csv('musinsa2.csv')\n",
    "\n",
    "news_company = []\n",
    "\n",
    "news_list = ['CSR','과징금','공정위','지역사회','사회공헌',\n",
    "             '스타트업','청년','창업','중소기업','상생','협력사','갑질',\n",
    "             '봉사','기부','ESG','사망','사고','취업','과태료','노조','개인정보']\n",
    "\n",
    "for i in news_list:\n",
    "    news_company.append(news_entire[news_entire.contents.str.contains(i) == True])\n",
    "\n",
    "news_company = pd.concat(news_company)    \n",
    "\n",
    "news_company = news_company.drop_duplicates(['contents','company'])"
   ]
  },
  {
   "cell_type": "code",
   "execution_count": 129,
   "metadata": {},
   "outputs": [],
   "source": [
    "#딕셔너리 통합 (고유어들을 하나의 주제로 분류할 수 있게끔 설정)\n",
    "\n",
    "dict_change_word= {'경북':'지역사회','광주':'지역사회','대구' : '지역사회' \n",
    "                   ,'외국인':'취약계층', '장애인':'취약계층', '공정거래위원회':'공정위',\n",
    "                   '사회적 책임':'사회공헌','CSR':'사회공헌', '고객정보':'개인정보',\n",
    "                   'ESG':'지속가능', '이노베이션':'혁신',\n",
    "                   '동반성장' : '상생', '갑질' : '불공정', '甲' : '갑',\n",
    "                   '산재':'산업재해', '산업 재해' : '산업재해'}"
   ]
  },
  {
   "cell_type": "code",
   "execution_count": 130,
   "metadata": {},
   "outputs": [
    {
     "name": "stderr",
     "output_type": "stream",
     "text": [
      "100%|████████████████████████████████████████████████████████████████████████████| 623/623 [00:00<00:00, 300765.58it/s]\n",
      "100%|████████████████████████████████████████████████████████████████████████████| 623/623 [00:00<00:00, 645995.40it/s]\n",
      "100%|████████████████████████████████████████████████████████████████████████████| 623/623 [00:00<00:00, 109842.84it/s]\n",
      "100%|████████████████████████████████████████████████████████████████████████████| 623/623 [00:00<00:00, 351973.52it/s]\n",
      "100%|████████████████████████████████████████████████████████████████████████████| 623/623 [00:00<00:00, 249028.06it/s]"
     ]
    },
    {
     "name": "stdout",
     "output_type": "stream",
     "text": [
      "\n",
      "URL 제거 과정.\n",
      "\n",
      "\n",
      "e-mail 제거 과정.\n",
      "\n",
      "\n",
      "고유어 변경 과정.\n",
      "\n",
      "\n",
      "특수문자 제거 과정.\n",
      "\n",
      "\n",
      "문자 외 제거 과정.\n",
      "\n"
     ]
    },
    {
     "name": "stderr",
     "output_type": "stream",
     "text": [
      "\n"
     ]
    },
    {
     "data": {
      "text/html": [
       "<div>\n",
       "<style scoped>\n",
       "    .dataframe tbody tr th:only-of-type {\n",
       "        vertical-align: middle;\n",
       "    }\n",
       "\n",
       "    .dataframe tbody tr th {\n",
       "        vertical-align: top;\n",
       "    }\n",
       "\n",
       "    .dataframe thead th {\n",
       "        text-align: right;\n",
       "    }\n",
       "</style>\n",
       "<table border=\"1\" class=\"dataframe\">\n",
       "  <thead>\n",
       "    <tr style=\"text-align: right;\">\n",
       "      <th></th>\n",
       "      <th>0</th>\n",
       "    </tr>\n",
       "  </thead>\n",
       "  <tbody>\n",
       "    <tr>\n",
       "      <th>0</th>\n",
       "      <td>회원분쟁 나 몰라라  네이버 크림 등 리셀업체 불공정약관 개선</td>\n",
       "    </tr>\n",
       "    <tr>\n",
       "      <th>1</th>\n",
       "      <td>쿠팡 등 대형 유통업체  연말까지 납품업체에  천억원 지원</td>\n",
       "    </tr>\n",
       "    <tr>\n",
       "      <th>2</th>\n",
       "      <td>착취의 테크놀로지인가  플랫폼 죽이기인가</td>\n",
       "    </tr>\n",
       "    <tr>\n",
       "      <th>3</th>\n",
       "      <td>온라인 플랫폼법 제정  미리  불공정  한 무신사   공정위  불공정거래 해당</td>\n",
       "    </tr>\n",
       "    <tr>\n",
       "      <th>4</th>\n",
       "      <td>사업자 책임 면제하고 공정위   리셀 업체  불공정약관 시정</td>\n",
       "    </tr>\n",
       "    <tr>\n",
       "      <th>5</th>\n",
       "      <td>백화점 마트 아울렛 수수료인하  코로나 상생</td>\n",
       "    </tr>\n",
       "    <tr>\n",
       "      <th>6</th>\n",
       "      <td>무신사  중소 패션 브랜드 상생 지원금    억 돌파</td>\n",
       "    </tr>\n",
       "    <tr>\n",
       "      <th>7</th>\n",
       "      <td>무신사  스타일쉐어      인수 본계약 체결 인수대금     억 원</td>\n",
       "    </tr>\n",
       "    <tr>\n",
       "      <th>8</th>\n",
       "      <td>네이버  크림  등 한정판 플랫폼  짝퉁 거래  무조건 면책  안 된다</td>\n",
       "    </tr>\n",
       "    <tr>\n",
       "      <th>9</th>\n",
       "      <td>공정위  서비스 임의 변경 등  리셀  업체 불공정 약관 시정</td>\n",
       "    </tr>\n",
       "  </tbody>\n",
       "</table>\n",
       "</div>"
      ],
      "text/plain": [
       "                                              0\n",
       "0            회원분쟁 나 몰라라  네이버 크림 등 리셀업체 불공정약관 개선\n",
       "1              쿠팡 등 대형 유통업체  연말까지 납품업체에  천억원 지원\n",
       "2                       착취의 테크놀로지인가  플랫폼 죽이기인가 \n",
       "3  온라인 플랫폼법 제정  미리  불공정  한 무신사   공정위  불공정거래 해당 \n",
       "4             사업자 책임 면제하고 공정위   리셀 업체  불공정약관 시정\n",
       "5                     백화점 마트 아울렛 수수료인하  코로나 상생 \n",
       "6                 무신사  중소 패션 브랜드 상생 지원금    억 돌파\n",
       "7        무신사  스타일쉐어      인수 본계약 체결 인수대금     억 원\n",
       "8       네이버  크림  등 한정판 플랫폼  짝퉁 거래  무조건 면책  안 된다\n",
       "9            공정위  서비스 임의 변경 등  리셀  업체 불공정 약관 시정"
      ]
     },
     "execution_count": 130,
     "metadata": {},
     "output_type": "execute_result"
    }
   ],
   "source": [
    "#토큰화하기 위해 데이터클리닝을 해줌\n",
    "\n",
    "news_entire_to_tokenize = pd.DataFrame(to_tokenize(news_company['title'], dict_change_word))\n",
    "\n",
    "news_entire_to_tokenize.reset_index(drop=True, inplace=True)\n",
    "\n",
    "news_entire_to_tokenize.head(10)"
   ]
  },
  {
   "cell_type": "code",
   "execution_count": 131,
   "metadata": {},
   "outputs": [],
   "source": [
    "#Stopword에 추가할 리스트 (조사, 명사, 일부 동사)\n",
    "\n",
    "stopword =  pd.read_csv(\"https://raw.githubusercontent.com/yoonkt200/FastCampusDataset/master/korean_stopwords.txt\")['아'].tolist()\n",
    "\n",
    "stopwords_post = ['이', '가', '께서', '에서', '서', '이다', '의', '을', '를', '이', '가', '에', '에게', '께', '한테', '에서', '에게서', '로서', '로써', '고', '이라고', '라고', '와', '과', '이랑', '에', '같이', '처럼', '만큼', '만치', '야',\n",
    "                  '아', '여', '이여', '이시여', '와', '과', '하고', '이다', '이며', '에다', '에다가', '이랑', '랑']\n",
    "\n",
    "my_stopwords = pd.read_table(\"stopword_list.txt\")['목록'].values.tolist()\n",
    "\n",
    "stopword = set(stopword + stopwords_post + my_stopwords)"
   ]
  },
  {
   "cell_type": "code",
   "execution_count": 132,
   "metadata": {
    "scrolled": false
   },
   "outputs": [
    {
     "name": "stderr",
     "output_type": "stream",
     "text": [
      "100%|████████████████████████████████████████████████████████████████████████████| 623/623 [00:00<00:00, 214694.88it/s]\n",
      "100%|████████████████████████████████████████████████████████████████████████████| 623/623 [00:00<00:00, 623788.83it/s]\n"
     ]
    }
   ],
   "source": [
    "#Tagging 작업\n",
    "\n",
    "from konlpy.tag import Okt\n",
    "\n",
    "okt = Okt()\n",
    "\n",
    "news_tagged = news_entire_to_tokenize[0].apply(lambda x : okt.morphs(x, stem = True)).tolist()\n",
    "\n",
    "#불용어 제거\n",
    "\n",
    "news_tagged = [[word for word in word_list if word not in stopword] for word_list in tqdm(news_tagged)]\n",
    "\n",
    "#한글자 제거\n",
    "\n",
    "news_tagged = [[word for word in word_list if len(word) > 1] for word_list in tqdm(news_tagged)]"
   ]
  },
  {
   "cell_type": "code",
   "execution_count": 133,
   "metadata": {},
   "outputs": [],
   "source": [
    "#태깅 완료 후 제목을 태깅한 것으로 대체해줌\n",
    "\n",
    "news_ready_for_LDA = news_company\n",
    "news_ready_for_LDA['title'] = news_tagged\n",
    "\n",
    "news_ready_for_LDA.to_excel('dddddd.xlsx')"
   ]
  },
  {
   "cell_type": "code",
   "execution_count": 134,
   "metadata": {},
   "outputs": [],
   "source": [
    "#데이터 클리닝\n",
    "\n",
    "news_ready_for_LDA.drop(news_ready_for_LDA.loc[news_ready_for_LDA['date']=='CHIEF EXECUTIVE'].index, inplace=True)\n",
    "news_ready_for_LDA.drop(news_ready_for_LDA.loc[news_ready_for_LDA['date']=='date'].index, inplace=True)\n",
    "news_ready_for_LDA['date'] = pd.to_datetime(news_ready_for_LDA['date'], format = \"%Y-%m-%d\")"
   ]
  },
  {
   "cell_type": "code",
   "execution_count": 135,
   "metadata": {},
   "outputs": [
    {
     "data": {
      "text/html": [
       "<div>\n",
       "<style scoped>\n",
       "    .dataframe tbody tr th:only-of-type {\n",
       "        vertical-align: middle;\n",
       "    }\n",
       "\n",
       "    .dataframe tbody tr th {\n",
       "        vertical-align: top;\n",
       "    }\n",
       "\n",
       "    .dataframe thead th {\n",
       "        text-align: right;\n",
       "    }\n",
       "</style>\n",
       "<table border=\"1\" class=\"dataframe\">\n",
       "  <thead>\n",
       "    <tr style=\"text-align: right;\">\n",
       "      <th></th>\n",
       "      <th>Column1</th>\n",
       "      <th>date</th>\n",
       "      <th>title</th>\n",
       "      <th>contents</th>\n",
       "      <th>company</th>\n",
       "    </tr>\n",
       "  </thead>\n",
       "  <tbody>\n",
       "    <tr>\n",
       "      <th>0</th>\n",
       "      <td>952.0</td>\n",
       "      <td>2021-11-28</td>\n",
       "      <td>[회원, 분쟁, 모르다, 크림, 리셀, 업체, 불공정, 약관, 개선]</td>\n",
       "      <td>공정위, 5개 업체에 약관조항 시정 조현미 기자 hmcho@ajunews.com 무...</td>\n",
       "      <td>무신사</td>\n",
       "    </tr>\n",
       "    <tr>\n",
       "      <th>1</th>\n",
       "      <td>1935.0</td>\n",
       "      <td>2021-02-02</td>\n",
       "      <td>[쿠팡, 대형, 유통업체, 연말, 납품, 업체, 천억원, 지원]</td>\n",
       "      <td>(쿠팡·SSG·마켓컬리·무신사), 아울렛 4곳(롯데·현대·신세계·뉴코아아울렛) 등 ...</td>\n",
       "      <td>무신사</td>\n",
       "    </tr>\n",
       "    <tr>\n",
       "      <th>2</th>\n",
       "      <td>2695.0</td>\n",
       "      <td>2021-10-12</td>\n",
       "      <td>[착취, 테크놀로지, 인가, 이기, 인가]</td>\n",
       "      <td>이 밖에도 숙박 플랫폼 야놀자나 패션 플랫폼 무신사, 네이버 등도 비슷한 문제로 고...</td>\n",
       "      <td>무신사</td>\n",
       "    </tr>\n",
       "    <tr>\n",
       "      <th>3</th>\n",
       "      <td>810.0</td>\n",
       "      <td>2021-03-07</td>\n",
       "      <td>[온라인, 제정, 미리, 불공정, 물다, 공정위, 불공정, 거래, 해당]</td>\n",
       "      <td>공정위 \"무신사, 공정거래법 상 경쟁 제한 위반 소지있어\" 무신사, 온라인 플랫폼 ...</td>\n",
       "      <td>무신사</td>\n",
       "    </tr>\n",
       "    <tr>\n",
       "      <th>4</th>\n",
       "      <td>950.0</td>\n",
       "      <td>2021-11-28</td>\n",
       "      <td>[사업자, 책임, 면제, 공정위, 리셀, 업체, 불공정, 약관, 시정]</td>\n",
       "      <td>공정위는 \"그동안 개인의 거래나 중소플랫폼 위주였던 리셀 시장에 네이버 계열사가 운...</td>\n",
       "      <td>무신사</td>\n",
       "    </tr>\n",
       "    <tr>\n",
       "      <th>...</th>\n",
       "      <td>...</td>\n",
       "      <td>...</td>\n",
       "      <td>...</td>\n",
       "      <td>...</td>\n",
       "      <td>...</td>\n",
       "    </tr>\n",
       "    <tr>\n",
       "      <th>618</th>\n",
       "      <td>1551.0</td>\n",
       "      <td>2021-11-10</td>\n",
       "      <td>[개인정보, 유출, 개사, 과태료, 만원]</td>\n",
       "      <td>‘개인정보 안전성 확보를 위한 조처’를 소홀히 해 개인정보가 유출된 GS리테일과 무...</td>\n",
       "      <td>무신사</td>\n",
       "    </tr>\n",
       "    <tr>\n",
       "      <th>619</th>\n",
       "      <td>1554.0</td>\n",
       "      <td>2021-11-10</td>\n",
       "      <td>[알파, 천명, 고객, 전화번호, 외부, 노출]</td>\n",
       "      <td>유출된 무신사, 위버스컴퍼니, 동아오츠카, 한국신용데이터, 디엘이앤씨, GS리테일,...</td>\n",
       "      <td>무신사</td>\n",
       "    </tr>\n",
       "    <tr>\n",
       "      <th>620</th>\n",
       "      <td>1528.0</td>\n",
       "      <td>2021-11-10</td>\n",
       "      <td>[물다, 동아오츠카, 제재, 처분]</td>\n",
       "      <td>▶GS25 편의점 등 유통 기업 ‘GS리테일’ ▶건설사 ‘DL이앤씨’(옛 대림산업)...</td>\n",
       "      <td>무신사</td>\n",
       "    </tr>\n",
       "    <tr>\n",
       "      <th>621</th>\n",
       "      <td>1536.0</td>\n",
       "      <td>2021-11-10</td>\n",
       "      <td>[물다, 개인정보, 유출, 과태료, 처분]</td>\n",
       "      <td>ⓒ뉴시스 개인정보 보호를 위한 안전조치에 필요한 의무를 다하지 않아 이용자의 정보가...</td>\n",
       "      <td>무신사</td>\n",
       "    </tr>\n",
       "    <tr>\n",
       "      <th>622</th>\n",
       "      <td>1546.0</td>\n",
       "      <td>2021-11-10</td>\n",
       "      <td>[실수, 유출, 개인정보, 사업자, 과태료, 만원]</td>\n",
       "      <td>유출된 무신사, 위버스컴퍼니, 동아오츠카, 한국신용데이터, 디엘이앤씨, GS리테일,...</td>\n",
       "      <td>무신사</td>\n",
       "    </tr>\n",
       "  </tbody>\n",
       "</table>\n",
       "<p>623 rows × 5 columns</p>\n",
       "</div>"
      ],
      "text/plain": [
       "     Column1       date                                     title  \\\n",
       "0      952.0 2021-11-28    [회원, 분쟁, 모르다, 크림, 리셀, 업체, 불공정, 약관, 개선]   \n",
       "1     1935.0 2021-02-02       [쿠팡, 대형, 유통업체, 연말, 납품, 업체, 천억원, 지원]   \n",
       "2     2695.0 2021-10-12                   [착취, 테크놀로지, 인가, 이기, 인가]   \n",
       "3      810.0 2021-03-07  [온라인, 제정, 미리, 불공정, 물다, 공정위, 불공정, 거래, 해당]   \n",
       "4      950.0 2021-11-28   [사업자, 책임, 면제, 공정위, 리셀, 업체, 불공정, 약관, 시정]   \n",
       "..       ...        ...                                       ...   \n",
       "618   1551.0 2021-11-10                   [개인정보, 유출, 개사, 과태료, 만원]   \n",
       "619   1554.0 2021-11-10                [알파, 천명, 고객, 전화번호, 외부, 노출]   \n",
       "620   1528.0 2021-11-10                       [물다, 동아오츠카, 제재, 처분]   \n",
       "621   1536.0 2021-11-10                   [물다, 개인정보, 유출, 과태료, 처분]   \n",
       "622   1546.0 2021-11-10              [실수, 유출, 개인정보, 사업자, 과태료, 만원]   \n",
       "\n",
       "                                              contents company  \n",
       "0    공정위, 5개 업체에 약관조항 시정 조현미 기자 hmcho@ajunews.com 무...     무신사  \n",
       "1    (쿠팡·SSG·마켓컬리·무신사), 아울렛 4곳(롯데·현대·신세계·뉴코아아울렛) 등 ...     무신사  \n",
       "2    이 밖에도 숙박 플랫폼 야놀자나 패션 플랫폼 무신사, 네이버 등도 비슷한 문제로 고...     무신사  \n",
       "3    공정위 \"무신사, 공정거래법 상 경쟁 제한 위반 소지있어\" 무신사, 온라인 플랫폼 ...     무신사  \n",
       "4    공정위는 \"그동안 개인의 거래나 중소플랫폼 위주였던 리셀 시장에 네이버 계열사가 운...     무신사  \n",
       "..                                                 ...     ...  \n",
       "618  ‘개인정보 안전성 확보를 위한 조처’를 소홀히 해 개인정보가 유출된 GS리테일과 무...     무신사  \n",
       "619  유출된 무신사, 위버스컴퍼니, 동아오츠카, 한국신용데이터, 디엘이앤씨, GS리테일,...     무신사  \n",
       "620  ▶GS25 편의점 등 유통 기업 ‘GS리테일’ ▶건설사 ‘DL이앤씨’(옛 대림산업)...     무신사  \n",
       "621  ⓒ뉴시스 개인정보 보호를 위한 안전조치에 필요한 의무를 다하지 않아 이용자의 정보가...     무신사  \n",
       "622  유출된 무신사, 위버스컴퍼니, 동아오츠카, 한국신용데이터, 디엘이앤씨, GS리테일,...     무신사  \n",
       "\n",
       "[623 rows x 5 columns]"
      ]
     },
     "execution_count": 135,
     "metadata": {},
     "output_type": "execute_result"
    }
   ],
   "source": [
    "news_ready_for_LDA.reset_index(drop=True, inplace=True)\n",
    "\n",
    "news_ready_for_LDA"
   ]
  },
  {
   "cell_type": "code",
   "execution_count": 136,
   "metadata": {},
   "outputs": [],
   "source": [
    "from gensim import corpora, models\n",
    "\n",
    "#ldamodel = models.wrappers.LdaMallet.load(datapath(\"model\"))\n",
    "\n",
    "ldamodel = pd.read_pickle('lda_model.pkl')\n",
    "\n",
    "dictionary, corpus = make_corpus(news_ready_for_LDA['title'])"
   ]
  },
  {
   "cell_type": "code",
   "execution_count": 137,
   "metadata": {},
   "outputs": [],
   "source": [
    "#토픽을 각 열로 옮김\n",
    "\n",
    "topic_list = []\n",
    "\n",
    "for i, j in enumerate(ldamodel[corpus]):\n",
    "    prob_list = []\n",
    "    temp = j\n",
    "    \n",
    "    for k, (topic_num, prop_topic) in enumerate(temp):\n",
    "        prob_list.append(prop_topic)\n",
    "    \n",
    "    \n",
    "    prob_df = pd.DataFrame(prob_list)\n",
    "    \n",
    "    prob_df_after_choice = [prob_df == max(prob_list)][0].T.astype(int)\n",
    "    \n",
    "    prob_df_after_choice = prob_df_after_choice / sum(prob_df_after_choice.T[0])\n",
    "    \n",
    "    topic_list.append(prob_df_after_choice)\n",
    "    "
   ]
  },
  {
   "cell_type": "code",
   "execution_count": 138,
   "metadata": {},
   "outputs": [],
   "source": [
    "topic_df = pd.concat(topic_list)\n",
    "topic_df.reset_index(drop=True, inplace=True)\n",
    "\n",
    "topic_df.to_excel('dd.xlsx')"
   ]
  },
  {
   "cell_type": "code",
   "execution_count": 139,
   "metadata": {},
   "outputs": [],
   "source": [
    "news_topic_df = pd.concat([news_ready_for_LDA['date'], topic_df, news_ready_for_LDA['company']],axis=1)"
   ]
  },
  {
   "cell_type": "code",
   "execution_count": 140,
   "metadata": {},
   "outputs": [],
   "source": [
    "#각 날짜에 해당하는 모든 기사 Topic 정보 합치는 함수\n",
    "def grouped_by_date(concat_df, num_topics):\n",
    "    grouped_df = concat_df[[x for x in range(num_topics)]].groupby(concat_df['year'])\n",
    "    \n",
    "    grouped_with_sum = grouped_df.sum()\n",
    "    \n",
    "    grouped_with_sum['합계'] = grouped_with_sum.sum(axis=1)\n",
    "    \n",
    "    return grouped_with_sum"
   ]
  },
  {
   "cell_type": "code",
   "execution_count": 141,
   "metadata": {},
   "outputs": [],
   "source": [
    "def normalized_topic(topic_sum_df):\n",
    "    topic_sum_df2 = topic_sum_df.iloc[0:,0:9]\n",
    "    for i in range(len(topic_sum_df2)):\n",
    "        topic_sum_df2.iloc[i] = topic_sum_df2.iloc[i] / topic_sum_df2.iloc[i, -1]\n",
    "        \n",
    "    topic_sum_df2['company'] = topic_sum_df['company']\n",
    "    return topic_sum_df2"
   ]
  },
  {
   "cell_type": "code",
   "execution_count": 142,
   "metadata": {},
   "outputs": [],
   "source": [
    "news_topic_df = news_topic_df.dropna()\n",
    "\n",
    "news_topic_df['year'] = news_topic_df['date'].dt.year\n",
    "##def 실행 - 날짜 기준으로 기사의 topic 정보 합침\n",
    "    \n",
    "news_topic_normalized = grouped_by_date(news_topic_df, 8)\n",
    "news_topic_normalized['company'] = news_topic_df['company'].iloc[0]\n",
    "\n",
    "news_topic_normalized = normalized_topic(news_topic_normalized)\n",
    "\n",
    "news_topic_normalized.reset_index(drop=False, inplace=True)\n"
   ]
  },
  {
   "cell_type": "code",
   "execution_count": null,
   "metadata": {},
   "outputs": [],
   "source": []
  },
  {
   "cell_type": "code",
   "execution_count": 143,
   "metadata": {},
   "outputs": [],
   "source": [
    "# topic 컬럼 정리\n",
    "\n",
    "columns = [\"date\"] + [\"Topic_{}\".format(i) for i in range(8)] + ['합계'] + ['company']\n",
    "news_topic_normalized.columns = columns"
   ]
  },
  {
   "cell_type": "code",
   "execution_count": 144,
   "metadata": {},
   "outputs": [
    {
     "data": {
      "text/html": [
       "<div>\n",
       "<style scoped>\n",
       "    .dataframe tbody tr th:only-of-type {\n",
       "        vertical-align: middle;\n",
       "    }\n",
       "\n",
       "    .dataframe tbody tr th {\n",
       "        vertical-align: top;\n",
       "    }\n",
       "\n",
       "    .dataframe thead th {\n",
       "        text-align: right;\n",
       "    }\n",
       "</style>\n",
       "<table border=\"1\" class=\"dataframe\">\n",
       "  <thead>\n",
       "    <tr style=\"text-align: right;\">\n",
       "      <th></th>\n",
       "      <th>date</th>\n",
       "      <th>Topic_0</th>\n",
       "      <th>Topic_1</th>\n",
       "      <th>Topic_2</th>\n",
       "      <th>Topic_3</th>\n",
       "      <th>Topic_4</th>\n",
       "      <th>Topic_5</th>\n",
       "      <th>Topic_6</th>\n",
       "      <th>Topic_7</th>\n",
       "      <th>합계</th>\n",
       "      <th>company</th>\n",
       "    </tr>\n",
       "  </thead>\n",
       "  <tbody>\n",
       "    <tr>\n",
       "      <th>0</th>\n",
       "      <td>2021</td>\n",
       "      <td>0.05</td>\n",
       "      <td>0.181461</td>\n",
       "      <td>0.119395</td>\n",
       "      <td>0.146442</td>\n",
       "      <td>0.209952</td>\n",
       "      <td>0.06664</td>\n",
       "      <td>0.148181</td>\n",
       "      <td>0.077929</td>\n",
       "      <td>1.0</td>\n",
       "      <td>무신사</td>\n",
       "    </tr>\n",
       "  </tbody>\n",
       "</table>\n",
       "</div>"
      ],
      "text/plain": [
       "   date  Topic_0   Topic_1   Topic_2   Topic_3   Topic_4  Topic_5   Topic_6  \\\n",
       "0  2021     0.05  0.181461  0.119395  0.146442  0.209952  0.06664  0.148181   \n",
       "\n",
       "    Topic_7   합계 company  \n",
       "0  0.077929  1.0     무신사  "
      ]
     },
     "execution_count": 144,
     "metadata": {},
     "output_type": "execute_result"
    }
   ],
   "source": [
    "news_topic_normalized"
   ]
  },
  {
   "cell_type": "code",
   "execution_count": 145,
   "metadata": {},
   "outputs": [],
   "source": [
    "news_topic_normalized.to_csv('topic_variable.csv')"
   ]
  },
  {
   "cell_type": "code",
   "execution_count": 146,
   "metadata": {},
   "outputs": [],
   "source": [
    "def ESG_labeling(x):\n",
    "    \n",
    "    if x == 0:\n",
    "        x = 'A'\n",
    "    \n",
    "    elif x ==  1:\n",
    "        x = 'A+'\n",
    "        \n",
    "    elif x == 2:\n",
    "        x = 'B'\n",
    "    \n",
    "    elif x == 3:\n",
    "        x = 'B+'\n",
    "        \n",
    "    elif x == 4:\n",
    "        x = 'C'\n",
    "        \n",
    "    elif x == 5:\n",
    "        x = 'D'\n",
    "        \n",
    "    return x\n",
    "    "
   ]
  },
  {
   "cell_type": "code",
   "execution_count": 147,
   "metadata": {},
   "outputs": [
    {
     "data": {
      "text/html": [
       "<div>\n",
       "<style scoped>\n",
       "    .dataframe tbody tr th:only-of-type {\n",
       "        vertical-align: middle;\n",
       "    }\n",
       "\n",
       "    .dataframe tbody tr th {\n",
       "        vertical-align: top;\n",
       "    }\n",
       "\n",
       "    .dataframe thead th {\n",
       "        text-align: right;\n",
       "    }\n",
       "</style>\n",
       "<table border=\"1\" class=\"dataframe\">\n",
       "  <thead>\n",
       "    <tr style=\"text-align: right;\">\n",
       "      <th></th>\n",
       "      <th>Topic_0</th>\n",
       "      <th>Topic_1</th>\n",
       "      <th>Topic_2</th>\n",
       "      <th>Topic_3</th>\n",
       "      <th>Topic_4</th>\n",
       "      <th>Topic_5</th>\n",
       "      <th>Topic_6</th>\n",
       "      <th>Topic_7</th>\n",
       "      <th>company</th>\n",
       "    </tr>\n",
       "  </thead>\n",
       "  <tbody>\n",
       "    <tr>\n",
       "      <th>0</th>\n",
       "      <td>0.05</td>\n",
       "      <td>0.181461</td>\n",
       "      <td>0.119395</td>\n",
       "      <td>0.146442</td>\n",
       "      <td>0.209952</td>\n",
       "      <td>0.06664</td>\n",
       "      <td>0.148181</td>\n",
       "      <td>0.077929</td>\n",
       "      <td>무신사</td>\n",
       "    </tr>\n",
       "  </tbody>\n",
       "</table>\n",
       "</div>"
      ],
      "text/plain": [
       "   Topic_0   Topic_1   Topic_2   Topic_3   Topic_4  Topic_5   Topic_6  \\\n",
       "0     0.05  0.181461  0.119395  0.146442  0.209952  0.06664  0.148181   \n",
       "\n",
       "    Topic_7 company  \n",
       "0  0.077929     무신사  "
      ]
     },
     "execution_count": 147,
     "metadata": {},
     "output_type": "execute_result"
    }
   ],
   "source": [
    "#ESG 예측\n",
    "news_data = pd.read_csv('topic_variable.csv')\n",
    "\n",
    "#유의적인 변수만을 변수로 선택함\n",
    "\n",
    "#news_variable = news_data[['company','Topic_1','Topic_2','Topic_7']] \n",
    "\n",
    "#전체 변수 선택 시\n",
    "news_variable = news_data.drop(['date','합계','Unnamed: 0'],axis = 1)\n",
    "\n",
    "news_variable"
   ]
  },
  {
   "cell_type": "code",
   "execution_count": 148,
   "metadata": {},
   "outputs": [
    {
     "data": {
      "text/html": [
       "<div>\n",
       "<style scoped>\n",
       "    .dataframe tbody tr th:only-of-type {\n",
       "        vertical-align: middle;\n",
       "    }\n",
       "\n",
       "    .dataframe tbody tr th {\n",
       "        vertical-align: top;\n",
       "    }\n",
       "\n",
       "    .dataframe thead th {\n",
       "        text-align: right;\n",
       "    }\n",
       "</style>\n",
       "<table border=\"1\" class=\"dataframe\">\n",
       "  <thead>\n",
       "    <tr style=\"text-align: right;\">\n",
       "      <th></th>\n",
       "      <th>company</th>\n",
       "      <th>star</th>\n",
       "      <th>up</th>\n",
       "      <th>wel</th>\n",
       "      <th>wl</th>\n",
       "      <th>cul</th>\n",
       "      <th>management</th>\n",
       "    </tr>\n",
       "  </thead>\n",
       "  <tbody>\n",
       "    <tr>\n",
       "      <th>0</th>\n",
       "      <td>무신사</td>\n",
       "      <td>2.7</td>\n",
       "      <td>2.9</td>\n",
       "      <td>2.8</td>\n",
       "      <td>2.5</td>\n",
       "      <td>2.5</td>\n",
       "      <td>2.2</td>\n",
       "    </tr>\n",
       "  </tbody>\n",
       "</table>\n",
       "</div>"
      ],
      "text/plain": [
       "  company star   up  wel   wl  cul management\n",
       "0     무신사  2.7  2.9  2.8  2.5  2.5        2.2"
      ]
     },
     "execution_count": 148,
     "metadata": {},
     "output_type": "execute_result"
    }
   ],
   "source": [
    "from sklearn.preprocessing import minmax_scale\n",
    "\n",
    "job_data = pd.DataFrame(['무신사',2.7, 2.9, 2.8, 2.5, 2.5, 2.2]).T\n",
    "\n",
    "job_variable = job_data.iloc[0:,1:7]\n",
    "\n",
    "job_variable = pd.concat([job_data[0],job_variable],axis=1)\n",
    "\n",
    "job_variable.columns = ['company', 'star', 'up', 'wel', 'wl','cul','management']\n",
    "\n",
    "job_variable"
   ]
  },
  {
   "cell_type": "code",
   "execution_count": null,
   "metadata": {},
   "outputs": [],
   "source": []
  },
  {
   "cell_type": "code",
   "execution_count": 149,
   "metadata": {},
   "outputs": [],
   "source": [
    "df_train = pd.merge(news_variable, job_variable)\n",
    "\n",
    "df_train['company_size'] =  pd.DataFrame([416168050715,492269680950]) // 1000000000000"
   ]
  },
  {
   "cell_type": "code",
   "execution_count": 150,
   "metadata": {},
   "outputs": [
    {
     "data": {
      "text/html": [
       "<div>\n",
       "<style scoped>\n",
       "    .dataframe tbody tr th:only-of-type {\n",
       "        vertical-align: middle;\n",
       "    }\n",
       "\n",
       "    .dataframe tbody tr th {\n",
       "        vertical-align: top;\n",
       "    }\n",
       "\n",
       "    .dataframe thead th {\n",
       "        text-align: right;\n",
       "    }\n",
       "</style>\n",
       "<table border=\"1\" class=\"dataframe\">\n",
       "  <thead>\n",
       "    <tr style=\"text-align: right;\">\n",
       "      <th></th>\n",
       "      <th>Topic_0</th>\n",
       "      <th>Topic_1</th>\n",
       "      <th>Topic_2</th>\n",
       "      <th>Topic_3</th>\n",
       "      <th>Topic_4</th>\n",
       "      <th>Topic_5</th>\n",
       "      <th>Topic_6</th>\n",
       "      <th>Topic_7</th>\n",
       "      <th>star</th>\n",
       "      <th>up</th>\n",
       "      <th>wel</th>\n",
       "      <th>wl</th>\n",
       "      <th>cul</th>\n",
       "      <th>management</th>\n",
       "      <th>company_size</th>\n",
       "    </tr>\n",
       "  </thead>\n",
       "  <tbody>\n",
       "    <tr>\n",
       "      <th>0</th>\n",
       "      <td>0.05</td>\n",
       "      <td>0.181461</td>\n",
       "      <td>0.119395</td>\n",
       "      <td>0.146442</td>\n",
       "      <td>0.209952</td>\n",
       "      <td>0.06664</td>\n",
       "      <td>0.148181</td>\n",
       "      <td>0.077929</td>\n",
       "      <td>2.7</td>\n",
       "      <td>2.9</td>\n",
       "      <td>2.8</td>\n",
       "      <td>2.5</td>\n",
       "      <td>2.5</td>\n",
       "      <td>2.2</td>\n",
       "      <td>0</td>\n",
       "    </tr>\n",
       "  </tbody>\n",
       "</table>\n",
       "</div>"
      ],
      "text/plain": [
       "   Topic_0   Topic_1   Topic_2   Topic_3   Topic_4  Topic_5   Topic_6  \\\n",
       "0     0.05  0.181461  0.119395  0.146442  0.209952  0.06664  0.148181   \n",
       "\n",
       "    Topic_7 star   up  wel   wl  cul management  company_size  \n",
       "0  0.077929  2.7  2.9  2.8  2.5  2.5        2.2             0  "
      ]
     },
     "execution_count": 150,
     "metadata": {},
     "output_type": "execute_result"
    }
   ],
   "source": [
    "#독립변수와 종속변수 분리\n",
    "\n",
    "x = df_train.drop(['company'], axis=1)\n",
    "\n",
    "x"
   ]
  },
  {
   "cell_type": "code",
   "execution_count": 151,
   "metadata": {
    "scrolled": true
   },
   "outputs": [
    {
     "data": {
      "text/html": [
       "<div>\n",
       "<style scoped>\n",
       "    .dataframe tbody tr th:only-of-type {\n",
       "        vertical-align: middle;\n",
       "    }\n",
       "\n",
       "    .dataframe tbody tr th {\n",
       "        vertical-align: top;\n",
       "    }\n",
       "\n",
       "    .dataframe thead th {\n",
       "        text-align: right;\n",
       "    }\n",
       "</style>\n",
       "<table border=\"1\" class=\"dataframe\">\n",
       "  <thead>\n",
       "    <tr style=\"text-align: right;\">\n",
       "      <th></th>\n",
       "      <th>date</th>\n",
       "      <th>Topic_0</th>\n",
       "      <th>Topic_1</th>\n",
       "      <th>Topic_2</th>\n",
       "      <th>Topic_3</th>\n",
       "      <th>Topic_4</th>\n",
       "      <th>Topic_5</th>\n",
       "      <th>Topic_6</th>\n",
       "      <th>Topic_7</th>\n",
       "      <th>합계</th>\n",
       "      <th>company</th>\n",
       "      <th>expect</th>\n",
       "    </tr>\n",
       "  </thead>\n",
       "  <tbody>\n",
       "    <tr>\n",
       "      <th>0</th>\n",
       "      <td>2021</td>\n",
       "      <td>0.05</td>\n",
       "      <td>0.181461</td>\n",
       "      <td>0.119395</td>\n",
       "      <td>0.146442</td>\n",
       "      <td>0.209952</td>\n",
       "      <td>0.06664</td>\n",
       "      <td>0.148181</td>\n",
       "      <td>0.077929</td>\n",
       "      <td>1.0</td>\n",
       "      <td>무신사</td>\n",
       "      <td>B</td>\n",
       "    </tr>\n",
       "  </tbody>\n",
       "</table>\n",
       "</div>"
      ],
      "text/plain": [
       "   date  Topic_0   Topic_1   Topic_2   Topic_3   Topic_4  Topic_5   Topic_6  \\\n",
       "0  2021     0.05  0.181461  0.119395  0.146442  0.209952  0.06664  0.148181   \n",
       "\n",
       "    Topic_7   합계 company expect  \n",
       "0  0.077929  1.0     무신사      B  "
      ]
     },
     "execution_count": 151,
     "metadata": {},
     "output_type": "execute_result"
    }
   ],
   "source": [
    "import joblib\n",
    "\n",
    "model_from_joblib = joblib.load('ESG_Predict_model.pkl') \n",
    "\n",
    "news_topic_normalized['expect'] = model_from_joblib.predict(x)\n",
    "\n",
    "#등급 라벨링 (여러 년도일시를 대비하여 lambda로)\n",
    "\n",
    "news_topic_normalized['expect'] = news_topic_normalized['expect'].apply(lambda x :ESG_labeling(x))\n",
    "\n",
    "news_topic_normalized"
   ]
  },
  {
   "cell_type": "code",
   "execution_count": 152,
   "metadata": {},
   "outputs": [],
   "source": [
    "news_info = pd.concat([news_topic_normalized[['date','company']],news_topic_normalized.iloc[:,1:9],news_topic_normalized[['expect']]],axis=1)"
   ]
  },
  {
   "cell_type": "code",
   "execution_count": 153,
   "metadata": {},
   "outputs": [],
   "source": [
    "news_info.columns = ['date','company','취약계층 지원', '동반성장','CSR 캠페인','산업재해', '개인정보 유출',\n",
    "                    '지역사회 공헌','불공정거래','상생경영','소셜 트렌드 등급']"
   ]
  },
  {
   "cell_type": "code",
   "execution_count": 154,
   "metadata": {},
   "outputs": [
    {
     "data": {
      "text/html": [
       "<div>\n",
       "<style scoped>\n",
       "    .dataframe tbody tr th:only-of-type {\n",
       "        vertical-align: middle;\n",
       "    }\n",
       "\n",
       "    .dataframe tbody tr th {\n",
       "        vertical-align: top;\n",
       "    }\n",
       "\n",
       "    .dataframe thead th {\n",
       "        text-align: right;\n",
       "    }\n",
       "</style>\n",
       "<table border=\"1\" class=\"dataframe\">\n",
       "  <thead>\n",
       "    <tr style=\"text-align: right;\">\n",
       "      <th></th>\n",
       "      <th>date</th>\n",
       "      <th>company</th>\n",
       "      <th>취약계층 지원</th>\n",
       "      <th>동반성장</th>\n",
       "      <th>CSR 캠페인</th>\n",
       "      <th>산업재해</th>\n",
       "      <th>개인정보 유출</th>\n",
       "      <th>지역사회 공헌</th>\n",
       "      <th>불공정거래</th>\n",
       "      <th>상생경영</th>\n",
       "      <th>소셜 트렌드 등급</th>\n",
       "    </tr>\n",
       "  </thead>\n",
       "  <tbody>\n",
       "    <tr>\n",
       "      <th>0</th>\n",
       "      <td>2021</td>\n",
       "      <td>무신사</td>\n",
       "      <td>0.05</td>\n",
       "      <td>0.181461</td>\n",
       "      <td>0.119395</td>\n",
       "      <td>0.146442</td>\n",
       "      <td>0.209952</td>\n",
       "      <td>0.06664</td>\n",
       "      <td>0.148181</td>\n",
       "      <td>0.077929</td>\n",
       "      <td>B</td>\n",
       "    </tr>\n",
       "  </tbody>\n",
       "</table>\n",
       "</div>"
      ],
      "text/plain": [
       "   date company  취약계층 지원      동반성장   CSR 캠페인      산업재해   개인정보 유출  지역사회 공헌  \\\n",
       "0  2021     무신사     0.05  0.181461  0.119395  0.146442  0.209952  0.06664   \n",
       "\n",
       "      불공정거래      상생경영 소셜 트렌드 등급  \n",
       "0  0.148181  0.077929         B  "
      ]
     },
     "execution_count": 154,
     "metadata": {},
     "output_type": "execute_result"
    }
   ],
   "source": [
    "news_info"
   ]
  },
  {
   "cell_type": "code",
   "execution_count": 155,
   "metadata": {},
   "outputs": [
    {
     "name": "stdout",
     "output_type": "stream",
     "text": [
      "무신사 소셜 트렌드 ['개인정보 유출' '동반성장' '불공정거래']\n"
     ]
    }
   ],
   "source": [
    "print(news_info['company'][0],\"소셜 트렌드\",news_info.iloc[:,2:10].T.sort_values(0,ascending=False).index[:3].values)"
   ]
  },
  {
   "cell_type": "code",
   "execution_count": null,
   "metadata": {},
   "outputs": [],
   "source": []
  },
  {
   "cell_type": "code",
   "execution_count": null,
   "metadata": {},
   "outputs": [],
   "source": []
  }
 ],
 "metadata": {
  "kernelspec": {
   "display_name": "Python 3",
   "language": "python",
   "name": "python3"
  },
  "language_info": {
   "codemirror_mode": {
    "name": "ipython",
    "version": 3
   },
   "file_extension": ".py",
   "mimetype": "text/x-python",
   "name": "python",
   "nbconvert_exporter": "python",
   "pygments_lexer": "ipython3",
   "version": "3.8.5"
  }
 },
 "nbformat": 4,
 "nbformat_minor": 4
}
