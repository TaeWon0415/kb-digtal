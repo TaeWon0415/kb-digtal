{
 "cells": [
  {
   "cell_type": "code",
   "execution_count": 2,
   "metadata": {},
   "outputs": [],
   "source": [
    "import numpy as np\n",
    "import pandas as pd\n",
    "import re\n",
    "import os\n",
    "import pickle\n",
    "import datetime as dt\n",
    "import warnings\n",
    "warnings.filterwarnings('ignore')\n",
    "from datetime import datetime\n",
    "from tqdm import tqdm\n",
    "from konlpy.tag import Twitter\n",
    "\n",
    "mallet_path = 'C:\\\\Users\\\\hufss\\\\mallet-2.0.8\\\\bin\\\\mallet'\n",
    "\n",
    "import matplotlib.pyplot as plt\n",
    "import seaborn as sns\n",
    "%matplotlib inline\n",
    "\n",
    "np.random.seed(10)\n"
   ]
  },
  {
   "cell_type": "code",
   "execution_count": 3,
   "metadata": {},
   "outputs": [],
   "source": [
    "#Corpus 만드는 함수\n",
    "def make_corpus(text_col):\n",
    "    from gensim import corpora\n",
    "    \n",
    "    dictionary = corpora.Dictionary(text_col)\n",
    "    dictionary.filter_extremes(no_below = 20)\n",
    "    corpus = [dictionary.doc2bow(text) for text in text_col]\n",
    "    return dictionary, corpus"
   ]
  },
  {
   "cell_type": "code",
   "execution_count": 4,
   "metadata": {},
   "outputs": [],
   "source": [
    "#LDA 모델 훈련시키는 함수\n",
    "def make_LDA(corpus, dictionary, num_topics, num_words):\n",
    "    import gensim\n",
    "    from gensim import corpora, models\n",
    "    NUM_TOPICS = num_topics\n",
    "    ldamallet = models.wrappers.LdaMallet(mallet_path, corpus=corpus, num_topics=NUM_TOPICS,\n",
    "                                          id2word=dictionary,random_seed = 10)\n",
    "    topics = ldamallet.print_topics(num_words = num_words)\n",
    "\n",
    "    return ldamallet, topics"
   ]
  },
  {
   "cell_type": "code",
   "execution_count": 5,
   "metadata": {
    "scrolled": true
   },
   "outputs": [
    {
     "data": {
      "text/html": [
       "<div>\n",
       "<style scoped>\n",
       "    .dataframe tbody tr th:only-of-type {\n",
       "        vertical-align: middle;\n",
       "    }\n",
       "\n",
       "    .dataframe tbody tr th {\n",
       "        vertical-align: top;\n",
       "    }\n",
       "\n",
       "    .dataframe thead th {\n",
       "        text-align: right;\n",
       "    }\n",
       "</style>\n",
       "<table border=\"1\" class=\"dataframe\">\n",
       "  <thead>\n",
       "    <tr style=\"text-align: right;\">\n",
       "      <th></th>\n",
       "      <th>Unnamed: 0</th>\n",
       "      <th>date</th>\n",
       "      <th>title</th>\n",
       "      <th>contents</th>\n",
       "    </tr>\n",
       "  </thead>\n",
       "  <tbody>\n",
       "    <tr>\n",
       "      <th>0</th>\n",
       "      <td>24</td>\n",
       "      <td>2020-07-19</td>\n",
       "      <td>[사회, 공헌, 물품, 기부, 캠페인, 행사, 유통업, 사회, 공헌]</td>\n",
       "      <td>리조이스 캠페인은 여성 우울증 예방과 인식 개선에 기여하는 기업의 사회적 책임(CS...</td>\n",
       "    </tr>\n",
       "    <tr>\n",
       "      <th>1</th>\n",
       "      <td>62</td>\n",
       "      <td>2020-11-26</td>\n",
       "      <td>[사회, 공헌, 디자인, 재능, 기부, 통해, 골목, 상권, 활기, 꿈꾸다]</td>\n",
       "      <td>어워드 &amp;amp; CSR 필름페스티벌'에서 ‘우리 가게 전담 디자이너’ 사업이 시작...</td>\n",
       "    </tr>\n",
       "    <tr>\n",
       "      <th>2</th>\n",
       "      <td>86</td>\n",
       "      <td>2020-04-10</td>\n",
       "      <td>[특별, 기획, 여파, 노블레스, 오블리주, 기업, 기부]</td>\n",
       "      <td>코로나19 발발 직후 전국재해구호협회에 10억원을 기부한 LG그룹은 지주사 LG를 ...</td>\n",
       "    </tr>\n",
       "    <tr>\n",
       "      <th>3</th>\n",
       "      <td>110</td>\n",
       "      <td>2020-10-16</td>\n",
       "      <td>[식량, 맞다, 식품, 업계, 기부, 절약, 캠페인, 펼치다]</td>\n",
       "      <td>기업사회공헌(CSR) 전문 스토어다. 아이배냇은 앞서 지난 4월에도 코로나19 극복...</td>\n",
       "    </tr>\n",
       "    <tr>\n",
       "      <th>4</th>\n",
       "      <td>134</td>\n",
       "      <td>2020-04-10</td>\n",
       "      <td>[특별, 기획, 여파, 노블레스, 오블리주, 기업, 기부]</td>\n",
       "      <td>코로나19 발발 직후 전국재해구호협회에 10억원을 기부한 LG그룹은 지주사 LG를 ...</td>\n",
       "    </tr>\n",
       "    <tr>\n",
       "      <th>...</th>\n",
       "      <td>...</td>\n",
       "      <td>...</td>\n",
       "      <td>...</td>\n",
       "      <td>...</td>\n",
       "    </tr>\n",
       "    <tr>\n",
       "      <th>37933</th>\n",
       "      <td>188658</td>\n",
       "      <td>2020-12-05</td>\n",
       "      <td>[서산시, 부석면, 희망, 나눔, 캠페인, 행사, 개최]</td>\n",
       "      <td>20포대, 현대건설에서 쌀10kg 60포대를 어려운 이웃을 위해 사용해달라고 기부했...</td>\n",
       "    </tr>\n",
       "    <tr>\n",
       "      <th>37934</th>\n",
       "      <td>188786</td>\n",
       "      <td>2020-10-23</td>\n",
       "      <td>[망고스틴, 디지털, 캠페인, 전문, 도약]</td>\n",
       "      <td>머스트잇, 동아오츠카, 신라면세점, 현대건설, 토스 등 다양한 브랜드의 디지털 캠페...</td>\n",
       "    </tr>\n",
       "    <tr>\n",
       "      <th>37936</th>\n",
       "      <td>192696</td>\n",
       "      <td>2020-01-16</td>\n",
       "      <td>[선물, 세트, 상품권, 전달, 재래시장, 장보기, 캠페인]</td>\n",
       "      <td>이어 박종성 부사장은 \"현대제철은 앞으로도 지역민을 위한 지속적인 나눔 실천을 통해...</td>\n",
       "    </tr>\n",
       "    <tr>\n",
       "      <th>37937</th>\n",
       "      <td>192704</td>\n",
       "      <td>2020-01-16</td>\n",
       "      <td>[선물, 가구, 전달, 재래시장, 활성화, 캠페인]</td>\n",
       "      <td>현대제철 임직원 봉사단은 5만 원 상당의 선물세트 400개와 전통시장 상품권, 당진...</td>\n",
       "    </tr>\n",
       "    <tr>\n",
       "      <th>37938</th>\n",
       "      <td>194261</td>\n",
       "      <td>2020-08-31</td>\n",
       "      <td>[취업, 돕다, 화훼농, 살리다, 캠페인]</td>\n",
       "      <td>◆ 재계 상생경영 ◆ 효성그룹은 코로나19 확산 위기와 올여름 집중호우 등 재난 피...</td>\n",
       "    </tr>\n",
       "  </tbody>\n",
       "</table>\n",
       "<p>37918 rows × 4 columns</p>\n",
       "</div>"
      ],
      "text/plain": [
       "       Unnamed: 0       date                                       title  \\\n",
       "0              24 2020-07-19      [사회, 공헌, 물품, 기부, 캠페인, 행사, 유통업, 사회, 공헌]   \n",
       "1              62 2020-11-26  [사회, 공헌, 디자인, 재능, 기부, 통해, 골목, 상권, 활기, 꿈꾸다]   \n",
       "2              86 2020-04-10            [특별, 기획, 여파, 노블레스, 오블리주, 기업, 기부]   \n",
       "3             110 2020-10-16          [식량, 맞다, 식품, 업계, 기부, 절약, 캠페인, 펼치다]   \n",
       "4             134 2020-04-10            [특별, 기획, 여파, 노블레스, 오블리주, 기업, 기부]   \n",
       "...           ...        ...                                         ...   \n",
       "37933      188658 2020-12-05             [서산시, 부석면, 희망, 나눔, 캠페인, 행사, 개최]   \n",
       "37934      188786 2020-10-23                    [망고스틴, 디지털, 캠페인, 전문, 도약]   \n",
       "37936      192696 2020-01-16           [선물, 세트, 상품권, 전달, 재래시장, 장보기, 캠페인]   \n",
       "37937      192704 2020-01-16                [선물, 가구, 전달, 재래시장, 활성화, 캠페인]   \n",
       "37938      194261 2020-08-31                     [취업, 돕다, 화훼농, 살리다, 캠페인]   \n",
       "\n",
       "                                                contents  \n",
       "0      리조이스 캠페인은 여성 우울증 예방과 인식 개선에 기여하는 기업의 사회적 책임(CS...  \n",
       "1      어워드 &amp; CSR 필름페스티벌'에서 ‘우리 가게 전담 디자이너’ 사업이 시작...  \n",
       "2      코로나19 발발 직후 전국재해구호협회에 10억원을 기부한 LG그룹은 지주사 LG를 ...  \n",
       "3      기업사회공헌(CSR) 전문 스토어다. 아이배냇은 앞서 지난 4월에도 코로나19 극복...  \n",
       "4      코로나19 발발 직후 전국재해구호협회에 10억원을 기부한 LG그룹은 지주사 LG를 ...  \n",
       "...                                                  ...  \n",
       "37933  20포대, 현대건설에서 쌀10kg 60포대를 어려운 이웃을 위해 사용해달라고 기부했...  \n",
       "37934  머스트잇, 동아오츠카, 신라면세점, 현대건설, 토스 등 다양한 브랜드의 디지털 캠페...  \n",
       "37936  이어 박종성 부사장은 \"현대제철은 앞으로도 지역민을 위한 지속적인 나눔 실천을 통해...  \n",
       "37937  현대제철 임직원 봉사단은 5만 원 상당의 선물세트 400개와 전통시장 상품권, 당진...  \n",
       "37938  ◆ 재계 상생경영 ◆ 효성그룹은 코로나19 확산 위기와 올여름 집중호우 등 재난 피...  \n",
       "\n",
       "[37918 rows x 4 columns]"
      ]
     },
     "execution_count": 5,
     "metadata": {},
     "output_type": "execute_result"
    }
   ],
   "source": [
    "#뉴스 데이터를 가져옴\n",
    "\n",
    "news_data = pd.read_pickle('news_ready_for_LDA.pkl')\n",
    "\n",
    "#데이터에서 가져오기 및 합치는 중 생긴 오류 값들을 제거함\n",
    "news_data.drop(news_data.loc[news_data['date']=='CHIEF EXECUTIVE'].index, inplace=True)\n",
    "news_data.drop(news_data.loc[news_data['date']=='date'].index, inplace=True)\n",
    "\n",
    "#date 형식을 datetime으로 변환\n",
    "news_data['date'] = pd.to_datetime(news_data['date'], format = \"%Y.%m.%d.\")\n",
    "\n",
    "news_data"
   ]
  },
  {
   "cell_type": "code",
   "execution_count": 6,
   "metadata": {},
   "outputs": [],
   "source": [
    "#dictionary, corpus 생성\n",
    "\n",
    "dictionary, corpus = make_corpus(news_data['title'])\n",
    "texts = news_data['title']"
   ]
  },
  {
   "cell_type": "code",
   "execution_count": 7,
   "metadata": {},
   "outputs": [],
   "source": [
    "##num_topics, num_words 정하기\n",
    "Num_Topics = 8\n",
    "Num_Words = 10"
   ]
  },
  {
   "cell_type": "code",
   "execution_count": 8,
   "metadata": {},
   "outputs": [],
   "source": [
    "##def 실행 - ldamodel, topic 생성\n",
    "ldamodel, topics = make_LDA(corpus, dictionary, Num_Topics, Num_Words)"
   ]
  },
  {
   "cell_type": "code",
   "execution_count": 12,
   "metadata": {
    "scrolled": false
   },
   "outputs": [
    {
     "name": "stderr",
     "output_type": "stream",
     "text": [
      "100%|██████████████████████████████████████████████████████████████████████████████████| 8/8 [00:00<00:00, 7906.32it/s]"
     ]
    },
    {
     "name": "stdout",
     "output_type": "stream",
     "text": [
      "0번째 Topic 0.054*\"사랑\" + 0.053*\"이웃\" + 0.051*\"계층\" + 0.049*\"성금\" + 0.046*\"취약\" + 0.045*\"기탁\" + 0.044*\"억원\" + 0.041*\"전달\" + 0.037*\"나눔\" + 0.028*\"봉사\"\n",
      "1번째 Topic 0.171*\"상생\" + 0.051*\"중소기업\" + 0.046*\"기업\" + 0.042*\"최우수\" + 0.040*\"협약\" + 0.033*\"지수\" + 0.025*\"개사\" + 0.021*\"공정\" + 0.020*\"사오다\" + 0.019*\"기술\"\n",
      "2번째 Topic 0.112*\"기부\" + 0.052*\"극복\" + 0.052*\"지원\" + 0.045*\"캠페인\" + 0.032*\"위해\" + 0.024*\"나서다\" + 0.024*\"직원\" + 0.023*\"진행\" + 0.018*\"봉사활동\" + 0.016*\"피해\"\n",
      "3번째 Topic 0.059*\"건설\" + 0.052*\"사망\" + 0.048*\"산업\" + 0.047*\"지원\" + 0.031*\"사고\" + 0.029*\"대기업\" + 0.023*\"거래\" + 0.020*\"근로자\" + 0.018*\"내부\" + 0.018*\"현장\"\n",
      "4번째 Topic 0.111*\"과징금\" + 0.066*\"개인정보\" + 0.062*\"유출\" + 0.043*\"담합\" + 0.033*\"만원\" + 0.030*\"입찰\" + 0.024*\"부과\" + 0.021*\"소송\" + 0.018*\"업체\" + 0.018*\"운송\"\n",
      "5번째 Topic 0.196*\"사회\" + 0.116*\"지역\" + 0.106*\"공헌\" + 0.045*\"협약\" + 0.036*\"체결\" + 0.033*\"사업\" + 0.030*\"업무\" + 0.029*\"활동\" + 0.029*\"기업\" + 0.021*\"공사\"\n",
      "6번째 Topic 0.088*\"공정위\" + 0.087*\"지원\" + 0.042*\"불공정\" + 0.039*\"제재\" + 0.034*\"고발\" + 0.021*\"부당\" + 0.020*\"열사\" + 0.019*\"검찰\" + 0.017*\"몰다\" + 0.015*\"하도급\"\n",
      "7번째 Topic 0.164*\"협력\" + 0.105*\"지원\" + 0.042*\"대금\" + 0.042*\"억원\" + 0.042*\"지급\" + 0.037*\"조기\" + 0.034*\"물품\" + 0.028*\"맞다\" + 0.022*\"추석\" + 0.021*\"규모\"\n"
     ]
    },
    {
     "name": "stderr",
     "output_type": "stream",
     "text": [
      "\n"
     ]
    }
   ],
   "source": [
    "####LDA모델이 잘 만들어졌는지 확인\n",
    "for topic in tqdm(topics):\n",
    "    print('{}번째 Topic'.format(topic[0]), topic[1])"
   ]
  },
  {
   "cell_type": "code",
   "execution_count": 15,
   "metadata": {},
   "outputs": [
    {
     "data": {
      "text/html": [
       "<div>\n",
       "<style scoped>\n",
       "    .dataframe tbody tr th:only-of-type {\n",
       "        vertical-align: middle;\n",
       "    }\n",
       "\n",
       "    .dataframe tbody tr th {\n",
       "        vertical-align: top;\n",
       "    }\n",
       "\n",
       "    .dataframe thead th {\n",
       "        text-align: right;\n",
       "    }\n",
       "</style>\n",
       "<table border=\"1\" class=\"dataframe\">\n",
       "  <thead>\n",
       "    <tr style=\"text-align: right;\">\n",
       "      <th></th>\n",
       "      <th>0</th>\n",
       "      <th>1</th>\n",
       "    </tr>\n",
       "  </thead>\n",
       "  <tbody>\n",
       "    <tr>\n",
       "      <th>0</th>\n",
       "      <td>0</td>\n",
       "      <td>0.054*\"사랑\" + 0.053*\"이웃\" + 0.051*\"계층\" + 0.049*\"...</td>\n",
       "    </tr>\n",
       "    <tr>\n",
       "      <th>1</th>\n",
       "      <td>1</td>\n",
       "      <td>0.171*\"상생\" + 0.051*\"중소기업\" + 0.046*\"기업\" + 0.042...</td>\n",
       "    </tr>\n",
       "    <tr>\n",
       "      <th>2</th>\n",
       "      <td>2</td>\n",
       "      <td>0.112*\"기부\" + 0.052*\"극복\" + 0.052*\"지원\" + 0.045*\"...</td>\n",
       "    </tr>\n",
       "    <tr>\n",
       "      <th>3</th>\n",
       "      <td>3</td>\n",
       "      <td>0.059*\"건설\" + 0.052*\"사망\" + 0.048*\"산업\" + 0.047*\"...</td>\n",
       "    </tr>\n",
       "    <tr>\n",
       "      <th>4</th>\n",
       "      <td>4</td>\n",
       "      <td>0.111*\"과징금\" + 0.066*\"개인정보\" + 0.062*\"유출\" + 0.04...</td>\n",
       "    </tr>\n",
       "    <tr>\n",
       "      <th>5</th>\n",
       "      <td>5</td>\n",
       "      <td>0.196*\"사회\" + 0.116*\"지역\" + 0.106*\"공헌\" + 0.045*\"...</td>\n",
       "    </tr>\n",
       "    <tr>\n",
       "      <th>6</th>\n",
       "      <td>6</td>\n",
       "      <td>0.088*\"공정위\" + 0.087*\"지원\" + 0.042*\"불공정\" + 0.039...</td>\n",
       "    </tr>\n",
       "    <tr>\n",
       "      <th>7</th>\n",
       "      <td>7</td>\n",
       "      <td>0.164*\"협력\" + 0.105*\"지원\" + 0.042*\"대금\" + 0.042*\"...</td>\n",
       "    </tr>\n",
       "  </tbody>\n",
       "</table>\n",
       "</div>"
      ],
      "text/plain": [
       "   0                                                  1\n",
       "0  0  0.054*\"사랑\" + 0.053*\"이웃\" + 0.051*\"계층\" + 0.049*\"...\n",
       "1  1  0.171*\"상생\" + 0.051*\"중소기업\" + 0.046*\"기업\" + 0.042...\n",
       "2  2  0.112*\"기부\" + 0.052*\"극복\" + 0.052*\"지원\" + 0.045*\"...\n",
       "3  3  0.059*\"건설\" + 0.052*\"사망\" + 0.048*\"산업\" + 0.047*\"...\n",
       "4  4  0.111*\"과징금\" + 0.066*\"개인정보\" + 0.062*\"유출\" + 0.04...\n",
       "5  5  0.196*\"사회\" + 0.116*\"지역\" + 0.106*\"공헌\" + 0.045*\"...\n",
       "6  6  0.088*\"공정위\" + 0.087*\"지원\" + 0.042*\"불공정\" + 0.039...\n",
       "7  7  0.164*\"협력\" + 0.105*\"지원\" + 0.042*\"대금\" + 0.042*\"..."
      ]
     },
     "execution_count": 15,
     "metadata": {},
     "output_type": "execute_result"
    }
   ],
   "source": [
    "pd.DataFrame(topics)"
   ]
  },
  {
   "cell_type": "code",
   "execution_count": 10,
   "metadata": {},
   "outputs": [],
   "source": [
    "pickle.dump(ldamodel, open('lda_model.pkl', 'wb'))\n"
   ]
  },
  {
   "cell_type": "code",
   "execution_count": 11,
   "metadata": {},
   "outputs": [],
   "source": [
    "pickle.dump(dictionary, open('dictionary.pkl', 'wb'))"
   ]
  },
  {
   "cell_type": "code",
   "execution_count": null,
   "metadata": {},
   "outputs": [],
   "source": []
  }
 ],
 "metadata": {
  "kernelspec": {
   "display_name": "Python 3",
   "language": "python",
   "name": "python3"
  },
  "language_info": {
   "codemirror_mode": {
    "name": "ipython",
    "version": 3
   },
   "file_extension": ".py",
   "mimetype": "text/x-python",
   "name": "python",
   "nbconvert_exporter": "python",
   "pygments_lexer": "ipython3",
   "version": "3.8.5"
  }
 },
 "nbformat": 4,
 "nbformat_minor": 4
}
